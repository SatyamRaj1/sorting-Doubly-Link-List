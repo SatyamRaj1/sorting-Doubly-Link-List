{
  "nbformat": 4,
  "nbformat_minor": 0,
  "metadata": {
    "colab": {
      "name": "Random forest regressor.ipynb",
      "provenance": [],
      "collapsed_sections": [],
      "authorship_tag": "ABX9TyMq/kZaesXQlVoRp84KpI9Z",
      "include_colab_link": true
    },
    "kernelspec": {
      "name": "python3",
      "display_name": "Python 3"
    },
    "language_info": {
      "name": "python"
    }
  },
  "cells": [
    {
      "cell_type": "markdown",
      "metadata": {
        "id": "view-in-github",
        "colab_type": "text"
      },
      "source": [
        "<a href=\"https://colab.research.google.com/github/SatyamRaj1/sorting-Doubly-Link-List/blob/main/Random_forest_regressor.ipynb\" target=\"_parent\"><img src=\"https://colab.research.google.com/assets/colab-badge.svg\" alt=\"Open In Colab\"/></a>"
      ]
    },
    {
      "cell_type": "code",
      "metadata": {
        "id": "tfhWo2_Ex6g5"
      },
      "source": [
        "import numpy as np\n",
        "import pandas as pd\n",
        "import matplotlib.pyplot as mpl\n"
      ],
      "execution_count": null,
      "outputs": []
    },
    {
      "cell_type": "markdown",
      "metadata": {
        "id": "nyCuLT1fyrIS"
      },
      "source": [
        "Assigning and Declaring"
      ]
    },
    {
      "cell_type": "code",
      "metadata": {
        "id": "Pbj9Q3p-yrkj"
      },
      "source": [
        "import seaborn as seb\n",
        "from sklearn.ensemble import RandomForestRegressor\n",
        "from sklearn import datasets \n",
        "from sklearn.model_selection import train_test_split as tts\n",
        "import seaborn\n",
        "from sklearn import metrics"
      ],
      "execution_count": null,
      "outputs": []
    },
    {
      "cell_type": "code",
      "metadata": {
        "id": "biqln6Yb12Gx",
        "colab": {
          "base_uri": "https://localhost:8080/"
        },
        "outputId": "381bbd34-5bf5-4379-a03f-97f286cdf2b6"
      },
      "source": [
        "iris=datasets.load_iris()\n",
        "\n",
        "df = pd.DataFrame(data= np.c_[iris['data'], iris['target']],\n",
        "                     columns= iris['feature_names'] + ['target'])\n",
        "#print(df)\n",
        "print(\"columns\",df.columns)\n",
        "#filling none values by mean\n",
        "df['sepal length (cm)']=df['sepal length (cm)'].fillna(df['sepal length (cm)'].mean())\n",
        "df['sepal width (cm)']=df['sepal width (cm)'].fillna(df['sepal width (cm)'].mean())\n",
        "df['petal length (cm)']=df['petal length (cm)'].fillna(df['petal length (cm)'].mean())\n",
        "df['petal width (cm)']=df['petal width (cm)'].fillna(df['petal width (cm)'].mean())\n",
        "df['target']=df['target'].fillna(df['target'].mean())\n",
        "x=df.iloc[:,0:4]\n",
        "y=df.iloc[:,4]\n",
        "'''x=iris.data\n",
        "y=iris.target'''\n",
        "x_train,x_test,y_train,y_test=tts(x,y,test_size=0.2,random_state=4)\n",
        "print(\"X\",'\\n',x.head(),'\\n')\n",
        "print(\"y\",'\\n',y.head(),'\\n')\n",
        "print(x.shape,y.shape)\n",
        "classes=['Iris Setosa','Iris Versicolour','Iris Virginica']\n",
        "print(df.info())"
      ],
      "execution_count": null,
      "outputs": [
        {
          "output_type": "stream",
          "text": [
            "columns Index(['sepal length (cm)', 'sepal width (cm)', 'petal length (cm)',\n",
            "       'petal width (cm)', 'target'],\n",
            "      dtype='object')\n",
            "X \n",
            "    sepal length (cm)  sepal width (cm)  petal length (cm)  petal width (cm)\n",
            "0                5.1               3.5                1.4               0.2\n",
            "1                4.9               3.0                1.4               0.2\n",
            "2                4.7               3.2                1.3               0.2\n",
            "3                4.6               3.1                1.5               0.2\n",
            "4                5.0               3.6                1.4               0.2 \n",
            "\n",
            "y \n",
            " 0    0.0\n",
            "1    0.0\n",
            "2    0.0\n",
            "3    0.0\n",
            "4    0.0\n",
            "Name: target, dtype: float64 \n",
            "\n",
            "(150, 4) (150,)\n",
            "<class 'pandas.core.frame.DataFrame'>\n",
            "RangeIndex: 150 entries, 0 to 149\n",
            "Data columns (total 5 columns):\n",
            " #   Column             Non-Null Count  Dtype  \n",
            "---  ------             --------------  -----  \n",
            " 0   sepal length (cm)  150 non-null    float64\n",
            " 1   sepal width (cm)   150 non-null    float64\n",
            " 2   petal length (cm)  150 non-null    float64\n",
            " 3   petal width (cm)   150 non-null    float64\n",
            " 4   target             150 non-null    float64\n",
            "dtypes: float64(5)\n",
            "memory usage: 6.0 KB\n",
            "None\n"
          ],
          "name": "stdout"
        }
      ]
    },
    {
      "cell_type": "markdown",
      "metadata": {
        "id": "rtsnaGoaF5E2"
      },
      "source": [
        "EDA.  \n",
        "SEABORN CORRELATION - used for feature selection. M1 for feature selection"
      ]
    },
    {
      "cell_type": "code",
      "metadata": {
        "id": "a_S6VZnaF9Cy",
        "colab": {
          "base_uri": "https://localhost:8080/",
          "height": 364
        },
        "outputId": "4b2371e7-bc93-4e11-fef0-03a9e9f98816"
      },
      "source": [
        "seaborn.heatmap(df.corr(),annot= True,fmt='.1g',cmap='RdYlGn')"
      ],
      "execution_count": null,
      "outputs": [
        {
          "output_type": "execute_result",
          "data": {
            "text/plain": [
              "<matplotlib.axes._subplots.AxesSubplot at 0x7fcbe430b6d0>"
            ]
          },
          "metadata": {
            "tags": []
          },
          "execution_count": 263
        },
        {
          "output_type": "display_data",
          "data": {
            "image/png": "[encoded data removed]",
            "text/plain": [
              "<Figure size 432x288 with 2 Axes>"
            ]
          },
          "metadata": {
            "tags": [],
            "needs_background": "light"
          }
        }
      ]
    },
    {
      "cell_type": "markdown",
      "metadata": {
        "id": "NaKhVnd1R7Tq"
      },
      "source": [
        "from this we can observe that target is least related to sepal width (with 0.4, -ve show that incresing it will decrese target so are reversaly related by 0.4) and most to petal width  \n",
        "**Note 0.4 is a significant number so acc may decrease**"
      ]
    },
    {
      "cell_type": "markdown",
      "metadata": {
        "id": "DhPUiBc6j6BJ"
      },
      "source": [
        "Scattering Graph b/w sepal width (cm) and target"
      ]
    },
    {
      "cell_type": "code",
      "metadata": {
        "colab": {
          "base_uri": "https://localhost:8080/",
          "height": 296
        },
        "id": "jt9ViBu4j8Bo",
        "outputId": "1a349093-eedf-46d8-a83c-45d0619e0077"
      },
      "source": [
        "mpl.scatter(df['sepal width (cm)'],y)\n",
        "mpl.xlabel('sepal width (cm)')\n",
        "mpl.ylabel('target')\n"
      ],
      "execution_count": null,
      "outputs": [
        {
          "output_type": "execute_result",
          "data": {
            "text/plain": [
              "Text(0, 0.5, 'target')"
            ]
          },
          "metadata": {
            "tags": []
          },
          "execution_count": 264
        },
        {
          "output_type": "display_data",
          "data": {
            "image/png": "[encoded data removed]",
            "text/plain": [
              "<Figure size 432x288 with 1 Axes>"
            ]
          },
          "metadata": {
            "tags": [],
            "needs_background": "light"
          }
        }
      ]
    },
    {
      "cell_type": "markdown",
      "metadata": {
        "id": "l3ivKxb_lHYM"
      },
      "source": [
        "b/w petal width (cm) and target"
      ]
    },
    {
      "cell_type": "code",
      "metadata": {
        "colab": {
          "base_uri": "https://localhost:8080/",
          "height": 296
        },
        "id": "dCpFwjSSlBqr",
        "outputId": "d17e345d-2714-4354-c681-f17fe947ea68"
      },
      "source": [
        "mpl.scatter(df['petal width (cm)'],y)\n",
        "mpl.xlabel('petal width (cm)')\n",
        "mpl.ylabel('target')\n"
      ],
      "execution_count": null,
      "outputs": [
        {
          "output_type": "execute_result",
          "data": {
            "text/plain": [
              "Text(0, 0.5, 'target')"
            ]
          },
          "metadata": {
            "tags": []
          },
          "execution_count": 265
        },
        {
          "output_type": "display_data",
          "data": {
            "image/png": "[encoded data removed]",
            "text/plain": [
              "<Figure size 432x288 with 1 Axes>"
            ]
          },
          "metadata": {
            "tags": [],
            "needs_background": "light"
          }
        }
      ]
    },
    {
      "cell_type": "markdown",
      "metadata": {
        "id": "RCfigiY1pd6M"
      },
      "source": [
        "SelectKBest feature engineering method using chi - squared statical test"
      ]
    },
    {
      "cell_type": "code",
      "metadata": {
        "id": "4DLMsXQxpc4n"
      },
      "source": [
        "from sklearn.feature_selection import SelectKBest\n",
        "from sklearn.feature_selection import chi2"
      ],
      "execution_count": null,
      "outputs": []
    },
    {
      "cell_type": "code",
      "metadata": {
        "colab": {
          "base_uri": "https://localhost:8080/"
        },
        "id": "6VqLPb7AqS03",
        "outputId": "8d077d1c-d61e-4556-e3ad-96f9a4247435"
      },
      "source": [
        "bestf=SelectKBest(score_func=chi2, k=3)  #selecting best 3 using chi2\n",
        "fit=bestf.fit(x,y)\n",
        "a=pd.DataFrame({\"score\":fit.scores_,\n",
        "                \"columns\":x.columns})\n",
        "print(a)\n"
      ],
      "execution_count": null,
      "outputs": [
        {
          "output_type": "stream",
          "text": [
            "        score            columns\n",
            "0   10.817821  sepal length (cm)\n",
            "1    3.710728   sepal width (cm)\n",
            "2  116.312613  petal length (cm)\n",
            "3   67.048360   petal width (cm)\n"
          ],
          "name": "stdout"
        }
      ]
    },
    {
      "cell_type": "markdown",
      "metadata": {
        "id": "AHck1_V8mava"
      },
      "source": [
        "Model- Random Forest Regressor"
      ]
    },
    {
      "cell_type": "code",
      "metadata": {
        "colab": {
          "base_uri": "https://localhost:8080/"
        },
        "id": "Zf9oHTdWmhna",
        "outputId": "b2dccdce-a15a-46db-ea73-bc3ae760d987"
      },
      "source": [
        "model=RandomForestRegressor()\n",
        "model.fit(x_train,y_train)\n",
        "print(model)\n",
        "pred=model.predict(x_test)  #predictions\n",
        "#print('predictions:',pred)\n",
        "#print(np. array(y_test))  #to compare with predictions\n",
        "#print('accuracy:',acc)\n",
        "mse=metrics.mean_squared_error(y_test,pred)\n",
        "print(\"RMSE: \",np.sqrt(mse))\n",
        "sc=model.score(x_test,y_test)\n",
        "print('R squared score',sc)\n",
        "a=y_test.values\n",
        "fra=pd.DataFrame(data=[pred,a]).T\n",
        "fra.columns=['predictions','original']\n",
        "print(fra)"
      ],
      "execution_count": null,
      "outputs": [
        {
          "output_type": "stream",
          "text": [
            "RandomForestRegressor(bootstrap=True, ccp_alpha=0.0, criterion='mse',\n",
            "                      max_depth=None, max_features='auto', max_leaf_nodes=None,\n",
            "                      max_samples=None, min_impurity_decrease=0.0,\n",
            "                      min_impurity_split=None, min_samples_leaf=1,\n",
            "                      min_samples_split=2, min_weight_fraction_leaf=0.0,\n",
            "                      n_estimators=100, n_jobs=None, oob_score=False,\n",
            "                      random_state=None, verbose=0, warm_start=False)\n",
            "RMSE:  0.1393078126548065\n",
            "R squared score 0.9750841654778887\n",
            "    predictions  original\n",
            "0          2.00       2.0\n",
            "1          0.00       0.0\n",
            "2          2.00       2.0\n",
            "3          2.00       2.0\n",
            "4          2.00       2.0\n",
            "5          1.00       1.0\n",
            "6          1.63       1.0\n",
            "7          0.00       0.0\n",
            "8          0.00       0.0\n",
            "9          1.58       2.0\n",
            "10         0.00       0.0\n",
            "11         0.00       0.0\n",
            "12         0.00       0.0\n",
            "13         1.00       1.0\n",
            "14         1.98       2.0\n",
            "15         0.00       0.0\n",
            "16         1.03       1.0\n",
            "17         0.00       0.0\n",
            "18         0.00       0.0\n",
            "19         1.94       2.0\n",
            "20         0.00       0.0\n",
            "21         2.00       2.0\n",
            "22         1.06       1.0\n",
            "23         0.00       0.0\n",
            "24         0.00       0.0\n",
            "25         0.00       0.0\n",
            "26         0.00       0.0\n",
            "27         0.00       0.0\n",
            "28         0.00       0.0\n",
            "29         1.98       2.0\n"
          ],
          "name": "stdout"
        }
      ]
    },
    {
      "cell_type": "markdown",
      "metadata": {
        "id": "hSoGUOEZA41S"
      },
      "source": [
        "Feature Engineering using feature inportance"
      ]
    },
    {
      "cell_type": "code",
      "metadata": {
        "colab": {
          "base_uri": "https://localhost:8080/"
        },
        "id": "9Qkk6JBCA9Z0",
        "outputId": "81d2ba88-ed48-40ea-de1a-fbfcf875b910"
      },
      "source": [
        "imp=model.feature_importances_\n",
        "df_imp=pd.DataFrame(imp,index=x.columns,columns=['Importance'])\n",
        "print(df_imp)"
      ],
      "execution_count": null,
      "outputs": [
        {
          "output_type": "stream",
          "text": [
            "                   Importance\n",
            "sepal length (cm)    0.008105\n",
            "sepal width (cm)     0.008484\n",
            "petal length (cm)    0.474393\n",
            "petal width (cm)     0.509018\n"
          ],
          "name": "stdout"
        }
      ]
    },
    {
      "cell_type": "markdown",
      "metadata": {
        "id": "gYRnZ2yC4fXR"
      },
      "source": [
        "**Note** there is an error coming in feature importance (as it is deviating from heatmap and SelectKbest and also it's value is changing if we change random state while dividing data during Test Train Split (type any other no. in random state of test train split and find out other two are same but it is not and also every time gives different when running model).   \n",
        "**Till now issue didn't resolved**"
      ]
    },
    {
      "cell_type": "code",
      "metadata": {
        "colab": {
          "base_uri": "https://localhost:8080/",
          "height": 360
        },
        "id": "Z4UhOFuSCE4i",
        "outputId": "ba9942c4-8d45-4aa5-ed7e-b4b26572fc81"
      },
      "source": [
        "df_imp.plot(kind=\"bar\")"
      ],
      "execution_count": null,
      "outputs": [
        {
          "output_type": "execute_result",
          "data": {
            "text/plain": [
              "<matplotlib.axes._subplots.AxesSubplot at 0x7fcbe4145c90>"
            ]
          },
          "metadata": {
            "tags": []
          },
          "execution_count": 270
        },
        {
          "output_type": "display_data",
          "data": {
            "image/png": "[encoded data removed]",
            "text/plain": [
              "<Figure size 432x288 with 1 Axes>"
            ]
          },
          "metadata": {
            "tags": [],
            "needs_background": "light"
          }
        }
      ]
    },
    {
      "cell_type": "markdown",
      "metadata": {
        "id": "RueKwGCwDl0l"
      },
      "source": [
        "removing unimp features"
      ]
    },
    {
      "cell_type": "code",
      "metadata": {
        "colab": {
          "base_uri": "https://localhost:8080/"
        },
        "id": "hhBYP0uODpUS",
        "outputId": "d31a880d-d918-4caa-cc23-66c0db30609e"
      },
      "source": [
        "'''\n",
        "necc=df_imp[((df_imp[\"Importance\"]>0.0085)  | (df_imp[\"Importance\"]<0.008))].index\n",
        "df_necc=x[necc].copy()          ##would be using if importance feature going good\n",
        "#print(df_necc)\n",
        "'''\n",
        "df_necc=x[['sepal length (cm)','petal length (cm)','petal width (cm)']]\n",
        "x1_train,x1_test,y1_train,y1_test=tts(df_necc,y,test_size=0.2,random_state=2)\n",
        "model=RandomForestRegressor()\n",
        "model.fit(x1_train,y1_train)\n",
        "print(\"score after feature eng\",model.score(x1_test,y1_test))\n",
        "pred1=model.predict(x1_test)\n",
        "print(pred1)\n",
        "print(np.array(y1_test))"
      ],
      "execution_count": null,
      "outputs": [
        {
          "output_type": "stream",
          "text": [
            "score after feature eng 0.9415480769230771\n",
            "[0.   0.   1.98 0.   0.   1.52 0.   2.   2.   0.   0.   0.   0.   0.\n",
            " 1.   1.   0.   1.   2.   1.   1.99 1.   2.   1.   1.   0.   0.   1.93\n",
            " 0.   2.  ]\n",
            "[0. 0. 2. 0. 0. 2. 0. 2. 2. 0. 0. 0. 0. 0. 1. 1. 0. 1. 2. 1. 1. 1. 2. 1.\n",
            " 1. 0. 0. 2. 0. 2.]\n"
          ],
          "name": "stdout"
        }
      ]
    },
    {
      "cell_type": "markdown",
      "metadata": {
        "id": "LcIRYhqrJXWd"
      },
      "source": [
        "Hyperprameter Tuning"
      ]
    },
    {
      "cell_type": "markdown",
      "metadata": {
        "id": "Jkls-vzg3OUW"
      },
      "source": [
        "declaring all individual hyperparameters.  can add or delete parameters"
      ]
    },
    {
      "cell_type": "code",
      "metadata": {
        "id": "1D7znP7MFoy2"
      },
      "source": [
        "from sklearn.model_selection import GridSearchCV"
      ],
      "execution_count": null,
      "outputs": []
    },
    {
      "cell_type": "code",
      "metadata": {
        "id": "O6GcZcJ0Ja4u"
      },
      "source": [
        "#number of trees in random forest\n",
        "n_est=[x for x in np.arange(start=10,stop=500,step=10)]\n",
        "#print(ar)\n",
        "#number of features to be consider at every split\n",
        "max_f=['auto','sqrt']\n",
        "#maximum number oflevels\n",
        "max_d=[2,4]\n",
        "#min no. of sample required to split a node\n",
        "min_ss=[2,5]\n",
        "#min no. of sample required at each leaf node\n",
        "min_sl=[0,1,2]\n",
        "#method of selecting samplesfor each training tree\n",
        "bootstrap=[True,False]"
      ],
      "execution_count": null,
      "outputs": []
    },
    {
      "cell_type": "markdown",
      "metadata": {
        "id": "8WfWPJ-I3ih_"
      },
      "source": [
        "putting them in a grid using dictionary"
      ]
    },
    {
      "cell_type": "code",
      "metadata": {
        "colab": {
          "base_uri": "https://localhost:8080/"
        },
        "id": "-Ef0dbm23r7k",
        "outputId": "68a6e79b-eaa1-4388-9dba-53c3187e83ca"
      },
      "source": [
        "rand_grid={'n_estimators':n_est,\n",
        "           \"max_features\": max_f,\n",
        "           'max_depth':max_d,\n",
        "           #'min_sample_split':min_ss,       ##didn't undersood these both's parameters\n",
        "           #'min_sample_leaf':min_sl,\n",
        "           'bootstrap':bootstrap\n",
        "           }\n",
        "print(rand_grid)"
      ],
      "execution_count": null,
      "outputs": [
        {
          "output_type": "stream",
          "text": [
            "{'n_estimators': [10, 20, 30, 40, 50, 60, 70, 80, 90, 100, 110, 120, 130, 140, 150, 160, 170, 180, 190, 200, 210, 220, 230, 240, 250, 260, 270, 280, 290, 300, 310, 320, 330, 340, 350, 360, 370, 380, 390, 400, 410, 420, 430, 440, 450, 460, 470, 480, 490], 'max_features': ['auto', 'sqrt'], 'max_depth': [2, 4], 'bootstrap': [True, False]}\n"
          ],
          "name": "stdout"
        }
      ]
    },
    {
      "cell_type": "markdown",
      "metadata": {
        "id": "TKcaVAzW71hV"
      },
      "source": [
        "now we will build a model and run all the combination from _est to find best  \n",
        "gridsearchcv - to run all combinations. can also use RandomizedSearchCV"
      ]
    },
    {
      "cell_type": "code",
      "metadata": {
        "colab": {
          "base_uri": "https://localhost:8080/"
        },
        "id": "2CA-TgMe8QBt",
        "outputId": "4c5ab613-f6b4-48b7-cb11-5331039866da"
      },
      "source": [
        "model=RandomForestRegressor()\n",
        "grd=GridSearchCV(estimator=model,param_grid=rand_grid,cv=3,verbose=2,n_jobs=3)\n",
        "grd.fit(x1_train,y1_train)\n",
        "grd.best_params_\n"
      ],
      "execution_count": null,
      "outputs": [
        {
          "output_type": "stream",
          "text": [
            "Fitting 3 folds for each of 392 candidates, totalling 1176 fits\n"
          ],
          "name": "stdout"
        },
        {
          "output_type": "stream",
          "text": [
            "[Parallel(n_jobs=3)]: Using backend LokyBackend with 3 concurrent workers.\n",
            "[Parallel(n_jobs=3)]: Done  35 tasks      | elapsed:    4.9s\n",
            "[Parallel(n_jobs=3)]: Done 156 tasks      | elapsed:   43.4s\n",
            "[Parallel(n_jobs=3)]: Done 359 tasks      | elapsed:  1.5min\n",
            "[Parallel(n_jobs=3)]: Done 642 tasks      | elapsed:  2.9min\n",
            "[Parallel(n_jobs=3)]: Done 1007 tasks      | elapsed:  4.2min\n",
            "[Parallel(n_jobs=3)]: Done 1176 out of 1176 | elapsed:  4.8min finished\n"
          ],
          "name": "stderr"
        },
        {
          "output_type": "execute_result",
          "data": {
            "text/plain": [
              "{'bootstrap': True, 'max_depth': 2, 'max_features': 'auto', 'n_estimators': 10}"
            ]
          },
          "metadata": {
            "tags": []
          },
          "execution_count": 275
        }
      ]
    },
    {
      "cell_type": "code",
      "metadata": {
        "colab": {
          "base_uri": "https://localhost:8080/"
        },
        "id": "Wk8ih3mYLkEm",
        "outputId": "f8ec2835-583a-45eb-a04f-b7fa87a77966"
      },
      "source": [
        "print(\"R square after hypertunning. \",grd.score(x1_test,y1_test))"
      ],
      "execution_count": null,
      "outputs": [
        {
          "output_type": "stream",
          "text": [
            "R square after hypertunning.  0.9247254092475672\n"
          ],
          "name": "stdout"
        }
      ]
    },
    {
      "cell_type": "code",
      "metadata": {
        "colab": {
          "base_uri": "https://localhost:8080/"
        },
        "id": "dvY-Qss5RcdH",
        "outputId": "fd62477c-e802-4873-805f-5bad47d45c1e"
      },
      "source": [
        "model\n"
      ],
      "execution_count": null,
      "outputs": [
        {
          "output_type": "execute_result",
          "data": {
            "text/plain": [
              "RandomForestRegressor(bootstrap=True, ccp_alpha=0.0, criterion='mse',\n",
              "                      max_depth=None, max_features='auto', max_leaf_nodes=None,\n",
              "                      max_samples=None, min_impurity_decrease=0.0,\n",
              "                      min_impurity_split=None, min_samples_leaf=1,\n",
              "                      min_samples_split=2, min_weight_fraction_leaf=0.0,\n",
              "                      n_estimators=100, n_jobs=None, oob_score=False,\n",
              "                      random_state=None, verbose=0, warm_start=False)"
            ]
          },
          "metadata": {
            "tags": []
          },
          "execution_count": 277
        }
      ]
    }
  ]
}